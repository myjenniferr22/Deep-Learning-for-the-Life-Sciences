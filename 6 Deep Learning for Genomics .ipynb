{
 "cells": [
  {
   "cell_type": "markdown",
   "metadata": {},
   "source": [
    "# Chapter 6. Deep Learning for Genomics "
   ]
  },
  {
   "cell_type": "markdown",
   "metadata": {},
   "source": [
    "## RNAs"
   ]
  },
  {
   "cell_type": "markdown",
   "metadata": {},
   "source": [
    "* **miRNA (micro RNA)**: \n",
    "\n",
    "    * are short peices of *single*-stranded RNA that bind to mRNA and prevent it from being translated into proteins. \n",
    "    \n",
    "    \n",
    "* **siRNA (short interering RNA)**:\n",
    "    * *double*-stranded RNA that binds to mRNA prevents it from being translated.\n",
    "    \n",
    "    \n",
    "* **Ribozymes**:\n",
    "    * are RNA molecules that can act as enzymes to catallyze chemical reactions. \n",
    "\n",
    "\n",
    "* **Riboswitches**:\n",
    "    * consisit of 2 parts:\n",
    "        1. One part acts as a mRNA\n",
    "        2. The other part is capable of binding to a small molecule. When it binds, that can either enable or prevent translation of the mRNA"
   ]
  },
  {
   "cell_type": "markdown",
   "metadata": {},
   "source": [
    "## Transcription Factor Binding\n",
    "\n",
    "* predict the transcription factor binding "
   ]
  },
  {
   "cell_type": "markdown",
   "metadata": {},
   "source": [
    "### A convolutional Model of TF Binding\n",
    "\n",
    "* The sequence are represented with one-hot coding:\n",
    "    * For each base we have 4 numbers, of which one is set to 1 and the others are set to 0. Whichi of the 4 numbers is set to 1 indicates whether the base is an A,C,G, or T.\n",
    "    "
   ]
  },
  {
   "cell_type": "code",
   "execution_count": null,
   "metadata": {},
   "outputs": [],
   "source": [
    "# Train a model to predict binding sites for the transcription factor JUND.\n",
    "\n",
    "import deepchem as dc\n",
    "import deepchem.models.tensorgraph.layers as layers\n",
    "import tensorflow as tf\n",
    "\n",
    "# Build the model.\n",
    "\n",
    "model = dc.models.TensorGraph(batch_size=1000, model_dir='tf')\n",
    "features = layers.Feature(shape=(None, 101, 4))\n",
    "labels = layers.Label(shape=(None, 1))\n",
    "weights = layers.Weights(shape=(None, 1))\n",
    "prev = features\n",
    "for i in range(3):\n",
    "    prev = layers.Conv1D(filters=15, kernel_size=10, activation=tf.nn.relu, padding='same', in_layers=prev)\n",
    "    prev = layers.Dropout(dropout_prob=0.5, in_layers=prev)\n",
    "logits = layers.Dense(out_channels=1, in_layers=layers.Flatten(prev))\n",
    "output = layers.Sigmoid(logits)\n",
    "model.add_output(output)\n",
    "loss = layers.SigmoidCrossEntropy(in_layers=[labels, logits])\n",
    "weighted_loss = layers.WeightedError(in_layers=[loss, weights])\n",
    "model.set_loss(weighted_loss)\n",
    "\n",
    "# Load the data.\n",
    "\n",
    "train = dc.data.DiskDataset('train_dataset')\n",
    "valid = dc.data.DiskDataset('valid_dataset')\n",
    "\n",
    "# Train the model, tracking its performance on the training and validation datasets.\n",
    "\n",
    "metric = dc.metrics.Metric(dc.metrics.roc_auc_score)\n",
    "for i in range(20):\n",
    "    model.fit(train, nb_epoch=10)\n",
    "    print(model.evaluate(train, [metric]))\n",
    "    print(model.evaluate(valid, [metric]))"
   ]
  },
  {
   "cell_type": "markdown",
   "metadata": {},
   "source": [
    "## Chromatin Accessibility"
   ]
  },
  {
   "cell_type": "markdown",
   "metadata": {},
   "source": [
    "* The name **chromatin** refers to everything that makes up a chromosome: DNA, histones, and various other proteins and RNA molecules. \n",
    "\n",
    "\n",
    "* **Chromatin accessibility** refers to how accessible each part of the chromosome is to outside molecules. \n",
    "\n",
    "\n",
    "* The data was analyzed in the last section came from experiments on a particular kind of cell called **HepG2**. The experiments identified locations in the genome where the transcription factor JUND was bound. The results were influenced by **chromatin acessibility**. "
   ]
  },
  {
   "cell_type": "code",
   "execution_count": 51,
   "metadata": {},
   "outputs": [],
   "source": [
    "# We first load data on accessibility\n",
    "\n",
    "span_accessibility = {}\n",
    "\n",
    "for line in open('DeepLearningLifeSciences-master/Chapter06/accessibility.txt'):\n",
    "    fields = line.split()\n",
    "    span_accessibility[fields[0]] = float(fields[1])"
   ]
  },
  {
   "cell_type": "code",
   "execution_count": 58,
   "metadata": {},
   "outputs": [],
   "source": [
    "from tensorflow.keras.layers import Input, Reshape, Conv2D, Flatten, Dense, Softmax,Concatenate"
   ]
  },
  {
   "cell_type": "code",
   "execution_count": 55,
   "metadata": {},
   "outputs": [],
   "source": [
    "accessibility = Input(shape=(None,1))"
   ]
  },
  {
   "cell_type": "code",
   "execution_count": null,
   "metadata": {},
   "outputs": [],
   "source": [
    "# Train a model to predict transcription factor binding, based on both\n",
    "# sequence and chromatin accessibility.\n",
    "\n",
    "import deepchem as dc\n",
    "import deepchem.models.tensorgraph.layers as layers\n",
    "import tensorflow as tf\n",
    "import numpy as np\n",
    "\n",
    "# Build the model.\n",
    "\n",
    "model = dc.models.TensorGraph(batch_size=1000, model_dir='chromatin')\n",
    "features = layers.Feature(shape=(None, 101, 4))\n",
    "accessibility = layers.Feature(shape=(None, 1))\n",
    "labels = layers.Label(shape=(None, 1))\n",
    "weights = layers.Weights(shape=(None, 1))\n",
    "prev = features\n",
    "for i in range(3):\n",
    "    prev = layers.Conv1D(filters=15, kernel_size=10, activation=tf.nn.relu, padding='same', in_layers=prev)\n",
    "    prev = layers.Dropout(dropout_prob=0.5, in_layers=prev)\n",
    "prev = layers.Concat([layers.Flatten(prev), accessibility])\n",
    "logits = layers.Dense(out_channels=1, in_layers=prev)\n",
    "output = layers.Sigmoid(logits)\n",
    "model.add_output(output)\n",
    "loss = layers.SigmoidCrossEntropy(in_layers=[labels, logits])\n",
    "weighted_loss = layers.WeightedError(in_layers=[loss, weights])\n",
    "model.set_loss(weighted_loss)\n",
    "\n",
    "# Load the data.\n",
    "\n",
    "train = dc.data.DiskDataset('train_dataset')\n",
    "valid = dc.data.DiskDataset('valid_dataset')\n",
    "span_accessibility = {}\n",
    "for line in open('accessibility.txt'):\n",
    "    fields = line.split()\n",
    "    span_accessibility[fields[0]] = float(fields[1])\n",
    "\n",
    "# Define a generator function to produce batches.\n",
    "\n",
    "def generate_batches(dataset, epochs):\n",
    "    for epoch in range(epochs):\n",
    "        for X, y, w, ids in dataset.iterbatches(batch_size=1000, pad_batches=True):\n",
    "            yield {\n",
    "                features: X,\n",
    "                accessibility: np.array([span_accessibility[id] for id in ids]),\n",
    "                labels: y,\n",
    "                weights: w\n",
    "            }\n",
    "\n",
    "# Train the model, tracking its performance on the training and validation datasets.\n",
    "\n",
    "metric = dc.metrics.Metric(dc.metrics.roc_auc_score)\n",
    "for i in range(20):\n",
    "    model.fit_generator(generate_batches(train, epochs=10))\n",
    "    print(model.evaluate_generator(generate_batches(train, 1), [metric], labels=[labels], weights=[weights]))\n",
    "    print(model.evaluate_generator(generate_batches(valid, 1), [metric], labels=[labels], weights=[weights]))\n"
   ]
  },
  {
   "cell_type": "markdown",
   "metadata": {},
   "source": [
    "## RNA Interference"
   ]
  },
  {
   "cell_type": "markdown",
   "metadata": {},
   "source": [
    "* A short piece of RNA whose sequence is complementary to part of a mRNA can bind to that mRNA. When this happens, it \"silences\" the mRNA and prevents if from being translated into a protein. The molecule that does the silencing is called a **short interfering RNA (siRNA)**.\n",
    "\n",
    "\n",
    "* RNa interference is a complex biological mechanism. It begins with the siRNA binding to a collection of proteins called the **RNA-induced silencing complex (RISC)**. The RISC uses the siRNA as a template to search out matching mRNAS in the cell and degrade them. **This serves both as a mechaism for regulating gene expression and as a defense against viruses**. \n",
    "    * **POWERFUL** : let us temporarily \"turn off\" any gene we want. "
   ]
  },
  {
   "cell_type": "code",
   "execution_count": null,
   "metadata": {},
   "outputs": [],
   "source": [
    "import deepchem as dc\n",
    "import deepchem.models.tensorgraph.layers as layers\n",
    "import tensorflow as tf\n",
    "import matplotlib.pyplot as plot\n",
    "\n",
    "# Build the model.\n",
    "\n",
    "model = dc.models.TensorGraph(model_dir='rnai')\n",
    "features = layers.Feature(shape=(None, 21, 4))\n",
    "labels = layers.Label(shape=(None, 1))\n",
    "prev = features\n",
    "for i in range(2):\n",
    "    prev = layers.Conv1D(filters=10, kernel_size=10, activation=tf.nn.relu, padding='same', in_layers=prev)\n",
    "    prev = layers.Dropout(dropout_prob=0.3, in_layers=prev)\n",
    "output = layers.Dense(out_channels=1, activation_fn=tf.sigmoid, in_layers=layers.Flatten(prev))\n",
    "model.add_output(output)\n",
    "loss = layers.ReduceMean(layers.L2Loss(in_layers=[labels, output]))\n",
    "model.set_loss(loss)\n",
    "\n",
    "# Load the data.\n",
    "\n",
    "train = dc.data.DiskDataset('train_siRNA')\n",
    "valid = dc.data.DiskDataset('valid_siRNA')\n",
    "\n",
    "# Train the model, tracking its performance on the training and validation datasets.\n",
    "\n",
    "metric = dc.metrics.Metric(dc.metrics.pearsonr, mode='regression')\n",
    "for i in range(20):\n",
    "    model.fit(train, nb_epoch=10)\n",
    "    print(model.evaluate(train, [metric])['pearsonr'][0])\n",
    "    print(model.evaluate(valid, [metric])['pearsonr'][0])\n"
   ]
  }
 ],
 "metadata": {
  "kernelspec": {
   "display_name": "Python 3",
   "language": "python",
   "name": "python3"
  },
  "language_info": {
   "codemirror_mode": {
    "name": "ipython",
    "version": 3
   },
   "file_extension": ".py",
   "mimetype": "text/x-python",
   "name": "python",
   "nbconvert_exporter": "python",
   "pygments_lexer": "ipython3",
   "version": "3.8.3"
  }
 },
 "nbformat": 4,
 "nbformat_minor": 4
}
