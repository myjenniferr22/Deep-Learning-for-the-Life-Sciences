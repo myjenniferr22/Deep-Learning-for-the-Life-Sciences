{
 "cells": [
  {
   "cell_type": "markdown",
   "metadata": {},
   "source": [
    "# Chapter 4. Machine Learning for Molecules"
   ]
  },
  {
   "cell_type": "markdown",
   "metadata": {},
   "source": [
    "**What is a Molecule?**\n",
    "\n",
    "*Covalent Bond:*\n",
    "\n",
    "* A molecule is a set of atoms joined by covalent bonds. \n",
    "* Covalent bonds invovle sharing electrons between two atoms. \n",
    "* Covalent bonds tend to be very stable. \n",
    "\n",
    "*Non-covalent Bond*: \n",
    "\n",
    "* Example: hydrogen bond\n",
    "* Since they are not as strong as covalent bonds, they are more ephemeral, constantly breaking and reforming. "
   ]
  },
  {
   "cell_type": "markdown",
   "metadata": {},
   "source": [
    "### Extended-Connectivity Fingerprints (ECFPs) \n",
    "\n",
    "* ECFPs are class of featurizations that combine several useful features. It let us take molecules of many different sizes and use them all with the same model.\n",
    "* Each unique combination of these properties is a feature, and the corresponding elements of the vector are set to 1 to indicate their presence. \n",
    "* The most common variant of this technique is the ECFP4 algorithm\n",
    "* **Disadvantage:** the fingerprint encodes a large amount of information about the molecule, but wsome inforamtion does get lost. "
   ]
  },
  {
   "cell_type": "code",
   "execution_count": 9,
   "metadata": {},
   "outputs": [],
   "source": [
    "import deepchem as dc\n",
    "import rdkit\n",
    "from rdkit import Chem"
   ]
  },
  {
   "cell_type": "code",
   "execution_count": 39,
   "metadata": {},
   "outputs": [],
   "source": [
    "smiles = ['c1ccccc1','o1ccocc1'] #cyclohexane adn dioxane \n",
    "mols = [Chem.MolFromSmiles(smile) for smile in smiles]"
   ]
  },
  {
   "cell_type": "code",
   "execution_count": 20,
   "metadata": {},
   "outputs": [],
   "source": [
    "# dc.feat.CircularFingerprint class provides a standard interfaxe to featurize molecules\n",
    "feat = dc.feat.CircularFingerprint(size=1024)\n",
    "arr = feat.featurize(mols)"
   ]
  },
  {
   "cell_type": "code",
   "execution_count": 23,
   "metadata": {},
   "outputs": [
    {
     "data": {
      "text/plain": [
       "(2, 1024)"
      ]
     },
     "execution_count": 23,
     "metadata": {},
     "output_type": "execute_result"
    }
   ],
   "source": [
    "arr.shape"
   ]
  },
  {
   "cell_type": "markdown",
   "metadata": {},
   "source": [
    "### Molecular Descriptors"
   ]
  },
  {
   "cell_type": "code",
   "execution_count": 24,
   "metadata": {},
   "outputs": [],
   "source": [
    "feat = dc.feat.RDKitDescriptors()"
   ]
  },
  {
   "cell_type": "code",
   "execution_count": 25,
   "metadata": {},
   "outputs": [],
   "source": [
    "arr = feat.featurize(mols)"
   ]
  },
  {
   "cell_type": "code",
   "execution_count": 27,
   "metadata": {},
   "outputs": [
    {
     "data": {
      "text/plain": [
       "(2, 200)"
      ]
     },
     "execution_count": 27,
     "metadata": {},
     "output_type": "execute_result"
    }
   ],
   "source": [
    "arr.shape # arr contains properties of the 2 molecules "
   ]
  },
  {
   "cell_type": "markdown",
   "metadata": {},
   "source": [
    "## Graph Convolutions:\n",
    "\n",
    "* Just as a regular CNN begins with a vector of numbers of each pixel, a *graph convolutional network* begins with a vecotr of numbers for each node and/or edge.\n",
    "* A graph convolutional layer computes a new vector for each node and/or edge. \n",
    "* **Limitations:** the calculation is based solely on the molecualr graph. They receive no inforamtion about the molecule's conformation, so they cannot hope to predict anything that is conforamtion-dependend. It makes them most suitable for **small, mostly rigid molecules**."
   ]
  },
  {
   "cell_type": "markdown",
   "metadata": {},
   "source": [
    "## Training a Model to Predict Solubility"
   ]
  },
  {
   "cell_type": "code",
   "execution_count": 29,
   "metadata": {},
   "outputs": [],
   "source": [
    "# first load the data \n",
    "tasks, datasets, transformers = dc.molnet.load_delaney(featurizer='GraphConv')\n",
    "train_dataset, valid_dataset, test_dataset = datasets\n",
    "# This dataset contains info about solubility"
   ]
  },
  {
   "cell_type": "markdown",
   "metadata": {},
   "source": [
    "**Specify featurizer = 'GraphConv'** because we are going to use a graph convolutional model, and this tells MoleculeNet to transform the SMILES string for each molecule into the format required by the model. "
   ]
  },
  {
   "cell_type": "markdown",
   "metadata": {},
   "source": [
    "### Construct and train the model "
   ]
  },
  {
   "cell_type": "code",
   "execution_count": 34,
   "metadata": {},
   "outputs": [
    {
     "data": {
      "text/plain": [
       "0.10902621269226075"
      ]
     },
     "execution_count": 34,
     "metadata": {},
     "output_type": "execute_result"
    }
   ],
   "source": [
    "from deepchem.models.graph_models import GraphConvModel\n",
    "\n",
    "model = GraphConvModel(n_tasks=1,  # only one task- one output value(the solubility) for each sample \n",
    "                       mode='regression', # labels are continuous numbers \n",
    "                       dropout=0.2) # reduce overfitting. 20% of the outputs from each convolutional layer will randomly be set to 0. \n",
    "\n",
    "model.fit(train_dataset, nb_epoch=100)"
   ]
  },
  {
   "cell_type": "markdown",
   "metadata": {},
   "source": [
    "### Evaluate the model"
   ]
  },
  {
   "cell_type": "code",
   "execution_count": 37,
   "metadata": {},
   "outputs": [
    {
     "name": "stdout",
     "output_type": "stream",
     "text": [
      "{'pearson_r2_score': 0.9216061639405052}\n",
      "\n",
      "\n",
      "{'pearson_r2_score': 0.6804935382998856}\n"
     ]
    }
   ],
   "source": [
    "metric = dc.metrics.Metric(dc.metrics.pearson_r2_score) # use the Pearson correlation coefficient as our evaluation metric\n",
    "\n",
    "print(model.evaluate(train_dataset,[metric], transformers))\n",
    "print('\\n')\n",
    "print(model.evaluate(test_dataset,[metric],transformers))"
   ]
  },
  {
   "cell_type": "markdown",
   "metadata": {},
   "source": [
    "### Predict the solubilities of new molecules\n",
    "1. Specified as SMILES string first\n",
    "2. Use smiles as inputs to the model\n",
    "    * first use RDKit to parse the SMIELS strings\n",
    "    * then use DeepChem featurizer to convert them to the format expected by the graph convolution"
   ]
  },
  {
   "cell_type": "code",
   "execution_count": 54,
   "metadata": {},
   "outputs": [],
   "source": [
    "smiles = ['COC(C)(C)CCCC(C)CC=CC(C)=CC(=O)OC(C)C',\n",
    "         'CCOC(=O)CC',\n",
    "         'CSc1nc(NC(C)C)nc(NC(C)C)n1',\n",
    "         'CC(C#C)N(C)C(=O)Nc1ccc(Cl)cc1',\n",
    "         'Cc1cc2ccccc2cc1C']"
   ]
  },
  {
   "cell_type": "code",
   "execution_count": 60,
   "metadata": {},
   "outputs": [],
   "source": [
    "from rdkit import Chem\n",
    "\n",
    "mols = [Chem.MolFromSmiles(s) for s in smiles]\n",
    "\n",
    "featurizer = dc.feat.ConvMolFeaturizer()\n",
    "x= featurizer.featurize(mols)"
   ]
  },
  {
   "cell_type": "code",
   "execution_count": 62,
   "metadata": {},
   "outputs": [
    {
     "data": {
      "text/plain": [
       "array([[-0.723661  ],\n",
       "       [ 1.7015487 ],\n",
       "       [-0.2791836 ],\n",
       "       [-0.59185773],\n",
       "       [-1.0156916 ]], dtype=float32)"
      ]
     },
     "execution_count": 62,
     "metadata": {},
     "output_type": "execute_result"
    }
   ],
   "source": [
    "predicted_solubility = model.predict_on_batch(x)\n",
    "predicted_solubility"
   ]
  },
  {
   "cell_type": "markdown",
   "metadata": {},
   "source": [
    "## MoleculeNet\n",
    "* it is a large collection of datasets useful for molecular machine learning.\n",
    "* When developing new machine leanring methods, we can use MoleculeNet as a collection of standard benchmarks to test our method on. (*http://moleculenet.ai*)"
   ]
  },
  {
   "cell_type": "markdown",
   "metadata": {},
   "source": [
    "### Define molecules from SMILES strings, display those molecules, and highlight ten atoms matching a SMARTS pattern. "
   ]
  },
  {
   "cell_type": "markdown",
   "metadata": {},
   "source": [
    "#### Step 1. Import the neccessary libraries and create a list of molecules from a list of SMILES strings. "
   ]
  },
  {
   "cell_type": "code",
   "execution_count": 64,
   "metadata": {},
   "outputs": [],
   "source": [
    "from rdkit import Chem\n",
    "from rdkit.Chem.Draw import MolsToGridImage"
   ]
  },
  {
   "cell_type": "code",
   "execution_count": 65,
   "metadata": {},
   "outputs": [],
   "source": [
    "smiles_list = ['CCCCC','CCOCC','CCNCC','CCSCC']\n",
    "mol_list = [Chem.MolFromSmiles(x) for x in smiles_list]"
   ]
  },
  {
   "cell_type": "code",
   "execution_count": 67,
   "metadata": {},
   "outputs": [
    {
     "data": {
      "text/plain": [
       "[<rdkit.Chem.rdchem.Mol at 0x7fb56c597170>,\n",
       " <rdkit.Chem.rdchem.Mol at 0x7fb56c597d00>,\n",
       " <rdkit.Chem.rdchem.Mol at 0x7fb56c5973f0>,\n",
       " <rdkit.Chem.rdchem.Mol at 0x7fb56c597da0>]"
      ]
     },
     "execution_count": 67,
     "metadata": {},
     "output_type": "execute_result"
    }
   ],
   "source": [
    "mol_list"
   ]
  },
  {
   "cell_type": "markdown",
   "metadata": {},
   "source": [
    "#### Step 2. Now we can see which SMILES strings match the SMARTS pattern 'CCC'"
   ]
  },
  {
   "cell_type": "code",
   "execution_count": 68,
   "metadata": {},
   "outputs": [],
   "source": [
    "query = Chem.MolFromSmarts('CCC')\n",
    "match_list = [mol.GetSubstructMatch(query) for mol in mol_list]"
   ]
  },
  {
   "cell_type": "code",
   "execution_count": 69,
   "metadata": {
    "scrolled": true
   },
   "outputs": [
    {
     "data": {
      "image/png": "[encoded data removed]",
      "text/plain": [
       "<PIL.PngImagePlugin.PngImageFile image mode=RGB size=800x200 at 0x7FB56C2FD3D0>"
      ]
     },
     "execution_count": 69,
     "metadata": {},
     "output_type": "execute_result"
    }
   ],
   "source": [
    "MolsToGridImage(mols=mol_list, molsPerRow=4, highlightAtomLists=match_list)"
   ]
  },
  {
   "cell_type": "markdown",
   "metadata": {},
   "source": [
    "* The star character can be used to match any atom"
   ]
  },
  {
   "cell_type": "code",
   "execution_count": 70,
   "metadata": {},
   "outputs": [],
   "source": [
    "query = Chem.MolFromSmarts('C*C')\n",
    "match_list = [mol.GetSubstructMatch(query) for mol in mol_list]"
   ]
  },
  {
   "cell_type": "code",
   "execution_count": 71,
   "metadata": {},
   "outputs": [
    {
     "data": {
      "image/png": "[encoded data removed]",
      "text/plain": [
       "<PIL.PngImagePlugin.PngImageFile image mode=RGB size=800x200 at 0x7FB55FE75B20>"
      ]
     },
     "execution_count": 71,
     "metadata": {},
     "output_type": "execute_result"
    }
   ],
   "source": [
    "MolsToGridImage(mols=mol_list, molsPerRow=4, highlightAtomLists=match_list)"
   ]
  },
  {
   "cell_type": "markdown",
   "metadata": {},
   "source": [
    "* The SMART syntax can be extended to only allow specific sets of atoms. For instance, the string **C[C,O,N]C** will match carbon attached to carbon, oxygen, or nitrogen, attached to another carbon. "
   ]
  },
  {
   "cell_type": "code",
   "execution_count": 72,
   "metadata": {},
   "outputs": [],
   "source": [
    "query = Chem.MolFromSmarts('C[C,O,N]C')\n",
    "match_list = [mol.GetSubstructMatch(query) for mol in mol_list]"
   ]
  },
  {
   "cell_type": "code",
   "execution_count": 73,
   "metadata": {},
   "outputs": [
    {
     "data": {
      "image/png": "[encoded data removed]",
      "text/plain": [
       "<PIL.PngImagePlugin.PngImageFile image mode=RGB size=800x200 at 0x7FB56C740640>"
      ]
     },
     "execution_count": 73,
     "metadata": {},
     "output_type": "execute_result"
    }
   ],
   "source": [
    "MolsToGridImage(mols=mol_list, molsPerRow=4, highlightAtomLists=match_list)"
   ]
  },
  {
   "cell_type": "code",
   "execution_count": null,
   "metadata": {},
   "outputs": [],
   "source": []
  }
 ],
 "metadata": {
  "kernelspec": {
   "display_name": "Python 3",
   "language": "python",
   "name": "python3"
  },
  "language_info": {
   "codemirror_mode": {
    "name": "ipython",
    "version": 3
   },
   "file_extension": ".py",
   "mimetype": "text/x-python",
   "name": "python",
   "nbconvert_exporter": "python",
   "pygments_lexer": "ipython3",
   "version": "3.8.3"
  }
 },
 "nbformat": 4,
 "nbformat_minor": 4
}
